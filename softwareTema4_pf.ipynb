﻿{
 "cells": [
  {
   "cell_type": "code",
   "execution_count": null,
   "metadata": {},
   "outputs": [],
   "source": [
    "#software informatico\n",
    "#Materia:Metodos Numericos\n",
    "#Docente:MM.Jorge Pool Cen\n",
    "#unidad 4\n",
    "#Sistemas computacionales 4-A\n",
    "#Alumna:\n",
    "#Leticia Kauil\n"  ]
  },
  {
   "cell_type": "markdown",
   "metadata": {},
   "source": [
    "**METODOS PARA LA SOLUCION DE PROBLEMAS DE DIFERENCIACION E INTEGRACION NUMERICA**"
   ]
  },
  {
   "cell_type": "markdown",
   "metadata": {},
   "source": [
    "**Metodo de simpson_caso general o compuesta**"
   ]
  },
  {
   "cell_type": "code",
   "execution_count": 1,
   "metadata": {},
   "outputs": [],
   "source": [
    "import math\n",
    "## definir una función que realice las evaluaciones\n",
    "def fxi(x):\n",
    "    return (x)*(math.log(x))\n",
    "\n",
    "def pares(afxi):\n",
    "    s = len(afxi)\n",
    "    sumapar= sum([afxi[i] for i in  range(2,s-1) if i%2==0])\n",
    "    return sumapar\n",
    "\n",
    "def impares(afxi):\n",
    "    s =  len(afxi)\n",
    "    sumaimpar = sum([afxi[i] for i in  range(1,s-1) if i%2!=0])\n",
    "    return sumaimpar\n",
    "\n",
    "def Simpson(afxi,h):\n",
    "    #[operaciones for  if condicion]\n",
    "    #sum([])=>suma o un solo valor, escalar, \n",
    "    s = len(afxi)\n",
    "    resul = (h/3) * (afxi[0]+afxi[s-1] + 2 * pares(afxi) + 4* impares(afxi))\n",
    "    return resul"
   ]
  },
  {
   "cell_type": "code",
   "execution_count": 2,
   "metadata": {},
   "outputs": [],
   "source": [
    "def principal():\n",
    "    print(\"METODO DE SIMPSON\")\n",
    "    n = int(input(\"Cantidad de intervalos: \"))\n",
    "    a = float(input(\"Limite a: \"))\n",
    "    b = float(input(\"Limite b: \"))\n",
    "    h= (b-a)/n\n",
    "    rpar=int(n/2 - 1)\n",
    "    rimpar=int(n/2)\n",
    "    ## Comprension and generator\n",
    "    afxi = [fxi(a+i*h) for i in range(n+1)] #comprenssion\n",
    "    resultadosimpson = Simpson(afxi,h)\n",
    "    print(\"i\", \"\\t xi\", \"\\t fxi\")\n",
    "    for i in range (n+1):\n",
    "        print(i, \"\\t\",(a+i*h), \"\\t\",afxi[i])\n",
    "    print(\"Resultado del 1° y ultimo dato\")\n",
    "    print(\"i\",\"\\t fxi\")\n",
    "    for i in range (1):\n",
    "        inicio=fxi(a+i*h)\n",
    "        final=fxi(a+(n+i)*h)\n",
    "        print(i, \"\\t\", inicio)\n",
    "        print(i+n, \"\\t\", final)\n",
    "    sumaif=inicio+final\n",
    "    print(\"La suma de los dos datos: \", sumaif)\n",
    "    for i in range(1):\n",
    "        print(\"Resultados de los pares\")\n",
    "        print(\"i\",\"\\t fxi\")\n",
    "    for i in range(1, n-1):\n",
    "        if (i%2==0):\n",
    "            print(i, \"\\t\", fxi(a+i*h))\n",
    "    par=2*pares(afxi)\n",
    "    print(\"Sumatoria de resultado pares multiplicado por 2: \", par)\n",
    "    for i in range(1):\n",
    "        print(\"Resultados de los impares\")\n",
    "        print(\"i\",\"\\t fxi\")\n",
    "    for i in range(1, n):\n",
    "        if (i%2!=0):\n",
    "            print(i, \"\\t\", fxi(a+i*h))\n",
    "    impar=4*impares(afxi)\n",
    "    print(\"Sumatoria de resultado impares multiplicado por 4: \", impar)\n",
    "    sumatotal=sumaif+par+impar\n",
    "    print(\"Sumatoria Total: \", sumatotal)\n",
    "    print(\"Resultado con el Metodo Simpson: \", resultadosimpson)"
   ]
  },
  {
   "cell_type": "code",
   "execution_count": 3,
   "metadata": {},
   "outputs": [
    {
     "name": "stdout",
     "output_type": "stream",
     "text": [
      "METODO DE SIMPSON\n",
      "Cantidad de intervalos: 4\n",
      "Limite a: 1\n",
      "Limite b: 2\n",
      "i \t xi \t fxi\n",
      "0 \t 1.0 \t 0.0\n",
      "1 \t 1.25 \t 0.2789294391427622\n",
      "2 \t 1.5 \t 0.6081976621622466\n",
      "3 \t 1.75 \t 0.9793276288869897\n",
      "4 \t 2.0 \t 1.3862943611198906\n",
      "Resultado del 1° y ultimo dato\n",
      "i \t fxi\n",
      "0 \t 0.0\n",
      "4 \t 1.3862943611198906\n",
      "La suma de los dos datos:  1.3862943611198906\n",
      "Resultados de los pares\n",
      "i \t fxi\n",
      "2 \t 0.6081976621622466\n",
      "Sumatoria de resultado pares multiplicado por 2:  1.2163953243244932\n",
      "Resultados de los impares\n",
      "i \t fxi\n",
      "1 \t 0.2789294391427622\n",
      "3 \t 0.9793276288869897\n",
      "Sumatoria de resultado impares multiplicado por 4:  5.033028272119007\n",
      "Sumatoria Total:  7.635717957563391\n",
      "Resultado con el Metodo Simpson:  0.6363098297969492\n"
     ]
    }
   ],
   "source": [
    "principal()"
   ]
  },
  {
   "cell_type": "code",
   "execution_count": null,
   "metadata": {},
   "outputs": [],
   "source": []
  },
  {
   "cell_type": "markdown",
   "metadata": {},
   "source": [
    "**Metodo de Trapecio _Caso general**"
   ]
  },
  {
   "cell_type": "code",
   "execution_count": 4,
   "metadata": {},
   "outputs": [
    {
     "name": "stdout",
     "output_type": "stream",
     "text": [
      "Cantidad de intervalos: 4\n",
      "Limite a: 1\n",
      "Limite b: 2\n",
      "    i         xi       fxi    \n",
      "    0       1.0000    0.0000  \n",
      "    1       1.2500    0.2789  \n",
      "    2       1.5000    0.6082  \n",
      "    3       1.7500    0.9793  \n",
      "    4       2.0000    1.3863  \n",
      "Primer y ultimo resultado de la columna sumas\n",
      "    i       Sumas   \n",
      "    0       0.0000  \n",
      "    4       1.3863  \n",
      "Suma que se multiplica x2\n",
      "    i        fxi    \n",
      "    1       0.2789  \n",
      "    2       0.6082  \n",
      "    3       0.9793  \n",
      "Suma:  1.8664547301919985\n",
      "El resultado es de la suma total es:  5.119203821503888\n",
      "solucion:  0.639900477687986\n"
     ]
    }
   ],
   "source": [
    "import numpy as np\n",
    "import math\n",
    "\n",
    "def fxi(x):\n",
    "    return (x) * (math.log(x))\n",
    "\n",
    "def arregloEvaluacion(n,a,h):\n",
    "    aevaluaciones = [fxi(a+i*h) for i in range(n+1)]\n",
    "    return aevaluaciones\n",
    "\n",
    "n = int(input(\"Cantidad de intervalos: \"))\n",
    "a = float(input(\"Limite a: \"))\n",
    "b = float(input(\"Limite b: \"))\n",
    "h= (b-a)/n\n",
    "x = np.zeros([n+1])\n",
    "x[0] = a\n",
    "x[n] = b\n",
    "suma = 0\n",
    "afxi = arregloEvaluacion(n,a,h)\n",
    "for i in np.arange(1,n):\n",
    "    x[i] = x[i-1] + h\n",
    "    suma = suma + fxi(x [i])\n",
    "    \n",
    "print('{:^10}{:^10}{:^10}'.format('i','xi','fxi'))\n",
    "for i in range (n+1):\n",
    "        print('{:^10}{:^10.4f}{:^10.4f}'.format(i,(a+(i*h)), afxi[i]))\n",
    "\n",
    "print(\"Primer y ultimo resultado de la columna sumas\")\n",
    "print('{:^10}{:^10}'.format('i','Sumas'))   \n",
    "for i in range(1):    \n",
    "    inicio=fxi(a+i*h)\n",
    "    final=fxi(a+(n+i)*h)\n",
    "    print('{:^10}{:^10.4f}'.format(i, inicio))\n",
    "    print('{:^10}{:^10.4f}'.format(i+n, final))\n",
    "k = inicio+final    \n",
    "\n",
    "for i in range(1):\n",
    "        print(\"Suma que se multiplica x2\")\n",
    "        print('{:^10}{:^10}'.format('i','fxi'))\n",
    "for i in range(1, n):\n",
    "        if (i%2!=0):\n",
    "            print('{:^10}{:^10.4f}'.format(i, fxi(a + (i*h))))\n",
    "        else:\n",
    "            print('{:^10}{:^10.4f}'.format(i, fxi(a + (i*h))))\n",
    "        \n",
    "print(\"Suma: \", suma)\n",
    "            \n",
    "\n",
    "sum = (suma * 2) + k   \n",
    "Resultado = (h /2) * (fxi(x[0]) + 2 * suma + fxi(x[n]))\n",
    "print(\"El resultado es de la suma total es: \", sum)\n",
    "print(\"solucion: \", Resultado)    "
   ]
  },
  {
   "cell_type": "code",
   "execution_count": null,
   "metadata": {},
   "outputs": [],
   "source": []
  },
  {
   "cell_type": "markdown",
   "metadata": {},
   "source": [
    "**Metodo de simpson_caso base**\n"
   ]
  },
  {
   "cell_type": "code",
   "execution_count": 11,
   "metadata": {},
   "outputs": [],
   "source": [
    "import math\n",
    "## definir una función que realice las evaluaciones\n",
    "def fxi(x):\n",
    "    return (x**3)*(math.e**x)\n",
    "\n",
    "def Simpson(afxi,h):\n",
    "    #[operaciones for  if condicion]\n",
    "    #sum([])=>suma o un solo valor, escalar, \n",
    "    resultado = (h/3) * (afxi[0] + 4*afxi[1] + afxi[2])\n",
    "    return resultado\n",
    "\n",
    "def principal():\n",
    "    print(\"Cantidad de intervalos = 3\")\n",
    "    a = float(input(\"Limite a: \"))\n",
    "    b = float(input(\"Limite b: \"))\n",
    "    h= (b-a)/2\n",
    "    ## Comprension and generator\n",
    "    afxi = [fxi(a+i*h) for i in range(5)] #comprenssion\n",
    "    resultadosimpson = Simpson(afxi,h)\n",
    "    print(\"METODO DE SIMPSON\")\n",
    "    print(\"\\t |i|\", \"\\t |xi|\", \"\\t |fxi|\")\n",
    "    for i in range (3):\n",
    "        print(\"\\t \",i, \"\\t\",(a+i*h), \"\\t\",afxi[i])\n",
    "    print(\"Resultado del primer y ultimo intervalo\")\n",
    "    print(\"\\n\\t |i|\",\"\\t |fxi|\")\n",
    "    primero=afxi[0]\n",
    "    medio=afxi[1]\n",
    "    ultimo=afxi[2] \n",
    "    print(\"\\t \",0, \"\\t\", primero)\n",
    "    print(\"\\t \",2, \"\\t\", ultimo)\n",
    "    print(\"\\n**Multiplicacion de \",medio,\"por 4: \")\n",
    "    mult=4*medio\n",
    "    print(\"Resultado de la multiplicacion:\", mult)\n",
    "    sumatotal=primero+ultimo+mult\n",
    "    print(\"Sumatoria Total: \", sumatotal)\n",
    "    print(\"Resultado con el Metodo Simpson: \", resultadosimpson)"
   ]
  },
  {
   "cell_type": "code",
   "execution_count": 12,
   "metadata": {},
   "outputs": [
    {
     "name": "stdout",
     "output_type": "stream",
     "text": [
      "Cantidad de intervalos = 3\n",
      "Limite a: -2\n",
      "Limite b: 2\n",
      "METODO DE SIMPSON\n",
      "\t |i| \t |xi| \t |fxi|\n",
      "\t  0 \t -2.0 \t -1.0826822658929016\n",
      "\t  1 \t 0.0 \t 0.0\n",
      "\t  2 \t 2.0 \t 59.112448791445196\n",
      "Resultado del primer y ultimo intervalo\n",
      "\n",
      "\t |i| \t |fxi|\n",
      "\t  0 \t -1.0826822658929016\n",
      "\t  2 \t 59.112448791445196\n",
      "\n",
      "**Multiplicacion de  0.0 por 4: \n",
      "Resultado de la multiplicacion: 0.0\n",
      "Sumatoria Total:  58.0297665255523\n",
      "Resultado con el Metodo Simpson:  38.68651101703486\n"
     ]
    }
   ],
   "source": [
    "principal()"
   ]
  },
  {
   "cell_type": "code",
   "execution_count": null,
   "metadata": {},
   "outputs": [],
   "source": []
  },
  {
   "cell_type": "markdown",
   "metadata": {},
   "source": [
    "**Metodo de trapecio_caso base**"
   ]
  },
  {
   "cell_type": "code",
   "execution_count": 7,
   "metadata": {},
   "outputs": [],
   "source": [
    "import math\n",
    "## definir una función que realice las evaluaciones\n",
    "def fxi(x):\n",
    "    return (x**3)*(math.e**x)\n",
    "\n",
    "def Trapecio(afxi,h):\n",
    "    s = len(afxi)\n",
    "#     suma = sum([afxi[i] for i in  range(1,s-1)])\n",
    "    resultado = (h/2) * (afxi[0]+afxi[1])\n",
    "    return resultado\n",
    "\n",
    "def principal():\n",
    "    print(\"Cantidad de intervalos: 2\")\n",
    "    a = float(input(\"Limite a: \"))\n",
    "    b = float(input(\"Limite b: \"))\n",
    "    h= b-a\n",
    "    ## Comprension and generator\n",
    "    afxi = [fxi(a+i*h) for i in range(2)] #comprenssion\n",
    "    resultadotrapecio = Trapecio(afxi,h)\n",
    "    print(\"METODO DE TRAPECIO\")\n",
    "    print(\"\\t |i|\", \"\\t |xi|\", \"\\t |fxi|\")\n",
    "    for i in range (2):\n",
    "        print(\"\\t \",i, \"\\t\",(a+i*h), \"\\t\",afxi[i])\n",
    "    print(\"Resultado del primer y ultimo intervalo\")\n",
    "    print(\"\\n\\t |i|\",\"\\t |fxi|\")\n",
    "    primero=afxi[0]\n",
    "    ultimo=afxi[1] \n",
    "    print(\"\\t \",0, \"\\t\", primero)\n",
    "    print(\"\\t \",1, \"\\t\", ultimo)\n",
    "    sumado=primero+ultimo\n",
    "    print(\"Sumatoria Total: \", sumado)\n",
    "    print(\"Resultado con el Metodo Trapecio: \", resultadotrapecio)"
   ]
  },
  {
   "cell_type": "code",
   "execution_count": 9,
   "metadata": {},
   "outputs": [
    {
     "name": "stdout",
     "output_type": "stream",
     "text": [
      "Cantidad de intervalos: 2\n",
      "Limite a: -2\n",
      "Limite b: 2\n",
      "METODO DE TRAPECIO\n",
      "\t |i| \t |xi| \t |fxi|\n",
      "\t  0 \t -2.0 \t -1.0826822658929016\n",
      "\t  1 \t 2.0 \t 59.112448791445196\n",
      "Resultado del primer y ultimo intervalo\n",
      "\n",
      "\t |i| \t |fxi|\n",
      "\t  0 \t -1.0826822658929016\n",
      "\t  1 \t 59.112448791445196\n",
      "Sumatoria Total:  58.0297665255523\n",
      "Resultado con el Metodo Trapecio:  116.0595330511046\n"
     ]
    }
   ],
   "source": [
    "principal()"
   ]
  },
  {
   "cell_type": "code",
   "execution_count": null,
   "metadata": {},
   "outputs": [],
   "source": []
  }
 ],
 "metadata": {
  "kernelspec": {
   "display_name": "Python 3",
   "language": "python",
   "name": "python3"
  },
  "language_info": {
   "codemirror_mode": {
    "name": "ipython",
    "version": 3
   },
   "file_extension": ".py",
   "mimetype": "text/x-python",
   "name": "python",
   "nbconvert_exporter": "python",
   "pygments_lexer": "ipython3",
   "version": "3.8.5"
  }
 },
 "nbformat": 4,
 "nbformat_minor": 4
}
